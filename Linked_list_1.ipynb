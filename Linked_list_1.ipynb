{
 "cells": [
  {
   "cell_type": "markdown",
   "metadata": {},
   "source": [
    "# First Lesson of Linked List\n",
    "\n",
    "A Linked List\n",
    "\n",
    "A linked list is a way of storing numbers and linking to the next number through addresses\n",
    "\n",
    "An Example is\n",
    "\n",
    "10 | 1024 -> 20 | 2048 -> 30 | None\n",
    "\n",
    "### However the downside of this current algorithm is that once the nodes are inplace and shown below, you are not able to add more data thereafter"
   ]
  },
  {
   "cell_type": "code",
   "execution_count": 2,
   "metadata": {},
   "outputs": [],
   "source": [
    "class Node:\n",
    "    def __init__(self,data):\n",
    "        self.data = data\n",
    "        self.next = None\n",
    "    \n",
    "class LinkedList:\n",
    "    def __init__(self):\n",
    "        self.head = None\n",
    "    \n",
    "    def printList(self):\n",
    "        temp = self.head\n",
    "        while(temp):\n",
    "            print(\"Current data is \", temp.data)\n",
    "            temp = temp.next\n",
    "            print(\"The next reference address is \", temp)\n",
    "            \n",
    "    def print(self):\n",
    "        temp = self.head\n",
    "        while(temp):\n",
    "            print(temp.data, end=\" \")\n",
    "            temp = temp.next"
   ]
  },
  {
   "cell_type": "code",
   "execution_count": 7,
   "metadata": {},
   "outputs": [
    {
     "name": "stdout",
     "output_type": "stream",
     "text": [
      "Data Representation:\n",
      "Current data is  10\n",
      "The next reference address is  <__main__.Node object at 0x0000021F0B6B57F0>\n",
      "Current data is  20\n",
      "The next reference address is  <__main__.Node object at 0x0000021F0B6B5790>\n",
      "Current data is  30\n",
      "The next reference address is  <__main__.Node object at 0x0000021F0B6B5B20>\n",
      "Current data is  40\n",
      "The next reference address is  <__main__.Node object at 0x0000021F0B6B5850>\n",
      "Current data is  50\n",
      "The next reference address is  <__main__.Node object at 0x0000021F0B6B58B0>\n",
      "Current data is  60\n",
      "The next reference address is  None\n",
      "\n",
      "The LinkedList Elements Are:\n",
      "10 20 30 40 50 60 "
     ]
    }
   ],
   "source": [
    "if __name__ == '__main__':\n",
    "    linkedlist = LinkedList()\n",
    "    \n",
    "    linkedlist.head = Node(10)\n",
    "    middle1 = Node(20)\n",
    "    middle2 = Node(30)\n",
    "    middle3 = Node(40)\n",
    "    middle4 = Node(50)\n",
    "    last = Node(60)\n",
    "\n",
    "    linkedlist.head.next = middle1\n",
    "    middle1.next = middle2\n",
    "    middle2.next = middle3\n",
    "    middle3.next = middle4\n",
    "    middle4.next = last\n",
    "    \n",
    "    print(\"Data Representation:\")\n",
    "    linkedlist.printList()\n",
    "    print(\"\")\n",
    "    print(\"The LinkedList Elements Are:\")\n",
    "    linkedlist.print()"
   ]
  },
  {
   "cell_type": "code",
   "execution_count": null,
   "metadata": {},
   "outputs": [],
   "source": []
  }
 ],
 "metadata": {
  "kernelspec": {
   "display_name": "Python 3",
   "language": "python",
   "name": "python3"
  },
  "language_info": {
   "codemirror_mode": {
    "name": "ipython",
    "version": 3
   },
   "file_extension": ".py",
   "mimetype": "text/x-python",
   "name": "python",
   "nbconvert_exporter": "python",
   "pygments_lexer": "ipython3",
   "version": "3.9.16"
  }
 },
 "nbformat": 4,
 "nbformat_minor": 2
}
